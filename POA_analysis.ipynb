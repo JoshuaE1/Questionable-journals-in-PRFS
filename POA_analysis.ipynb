{
 "cells": [
  {
   "cell_type": "markdown",
   "metadata": {},
   "source": [
    "# Identifying publications in questionable journals in the context of performance-based research funding (Flanders, Belgium)\n",
    "\n",
    "This notebook accompanies an article in preparation, in which we carry out an analysis of the publications that appeared in journals which were identified as being 'predatory' open access. The analysis is based on the Flemish [VABB-SHW database](https://www.ecoom.be/nodes/vabb/en). \n",
    "\n",
    "## Table of contents\n",
    "\n",
    "* [Setup](#Setup)\n",
    "* Description of data\n",
    "* Descriptive statistics\n",
    "* Distribution of publications (absolute counts) in POA journals, journals indexed by DOAJ, and other peer-reviewed journals\n",
    "* Distribution of POA journals (absolute counts) classified by Fields of Science OECD coding scheme [(link to OECD manual)](http://www.oecd.org/science/inno/38235147.pdf)]\n",
    "* Number (and column-wise proportions) of POA, DOAJ indexed and peer-reviewed publications with n authors]\n",
    "* Average proportion of senior authors relative to all authors (senior and junior) for POA publications]\n",
    "* Proportion of junior vs. senior authors positioned first in the author byline of POA publications]\n",
    "* Heatmap of cognitive (rows) and organizational (columns) classification of POA publications]"
   ]
  },
  {
   "cell_type": "markdown",
   "metadata": {},
   "source": [
    "## Setup\n",
    "First, we load some required packages and set a few options."
   ]
  },
  {
   "cell_type": "code",
   "execution_count": 31,
   "metadata": {},
   "outputs": [],
   "source": [
    "# data analysis\n",
    "import pandas as pd\n",
    "pd.set_option('precision', 4)\n",
    "import numpy as np\n",
    "\n",
    "# data visualization\n",
    "import seaborn as sns\n",
    "import matplotlib.pyplot as plt\n",
    "sns.set(style='darkgrid')\n",
    "\n",
    "import warnings\n",
    "warnings.filterwarnings('ignore')"
   ]
  },
  {
   "cell_type": "markdown",
   "metadata": {},
   "source": [
    "## Description of data"
   ]
  },
  {
   "cell_type": "code",
   "execution_count": 6,
   "metadata": {},
   "outputs": [],
   "source": [
    "df = pd.read_csv(\"./POA_dataset_ano.csv\", delimiter=';')"
   ]
  },
  {
   "cell_type": "code",
   "execution_count": 7,
   "metadata": {},
   "outputs": [
    {
     "data": {
      "text/plain": [
       "Index(['pub_id', 'pub_year', 'journal_id', 'fos_lv1', 'fos_lv2', 'auth_id',\n",
       "       'auth_in_place', 'number_of_auth_tot_article', 'number_of_auth_in_VABB',\n",
       "       'senior', 'Social health sciences', 'Psychology', 'Economics',\n",
       "       'Educational sciences', 'Sociology', 'Law', 'Criminology',\n",
       "       'Political sciences', 'Communication sciences',\n",
       "       'Social sciences general', 'History', 'Archaeology', 'Language',\n",
       "       'Philosophy', 'Arts, achitecture and art history', 'Other disciplines',\n",
       "       'Humanities general'],\n",
       "      dtype='object')"
      ]
     },
     "execution_count": 7,
     "metadata": {},
     "output_type": "execute_result"
    }
   ],
   "source": [
    "# Which columns are stored?\n",
    "df.columns"
   ]
  },
  {
   "cell_type": "code",
   "execution_count": 32,
   "metadata": {},
   "outputs": [
    {
     "data": {
      "application/vnd.dataresource+json": {
       "data": [
        {
         "Archaeology": 0,
         "Arts, achitecture and art history": 0,
         "Communication sciences": 0,
         "Criminology": 0,
         "Economics": 1,
         "Educational sciences": 0,
         "History": 0,
         "Humanities general": 0,
         "Language": 0,
         "Law": 0,
         "Other disciplines": 1,
         "Philosophy": 0,
         "Political sciences": 0,
         "Psychology": 0,
         "Social health sciences": 1,
         "Social sciences general": 1,
         "Sociology": 0,
         "auth_id": 6,
         "auth_in_place": 8,
         "fos_lv1": "5. Social sciences",
         "fos_lv2": "5.7 Social and economic geography",
         "index": 0,
         "journal_id": 7,
         "number_of_auth_in_VABB": 5,
         "number_of_auth_tot_article": 9,
         "pub_id": 0,
         "pub_year": 2008,
         "senior": 0
        },
        {
         "Archaeology": 0,
         "Arts, achitecture and art history": 0,
         "Communication sciences": 0,
         "Criminology": 0,
         "Economics": 1,
         "Educational sciences": 0,
         "History": 0,
         "Humanities general": 0,
         "Language": 0,
         "Law": 0,
         "Other disciplines": 1,
         "Philosophy": 0,
         "Political sciences": 0,
         "Psychology": 0,
         "Social health sciences": 1,
         "Social sciences general": 1,
         "Sociology": 0,
         "auth_id": 50,
         "auth_in_place": 9,
         "fos_lv1": "5. Social sciences",
         "fos_lv2": "5.7 Social and economic geography",
         "index": 1,
         "journal_id": 7,
         "number_of_auth_in_VABB": 5,
         "number_of_auth_tot_article": 9,
         "pub_id": 0,
         "pub_year": 2008,
         "senior": 1
        }
       ],
       "schema": {
        "fields": [
         {
          "name": "index",
          "type": "integer"
         },
         {
          "name": "pub_id",
          "type": "integer"
         },
         {
          "name": "pub_year",
          "type": "integer"
         },
         {
          "name": "journal_id",
          "type": "integer"
         },
         {
          "name": "fos_lv1",
          "type": "string"
         },
         {
          "name": "fos_lv2",
          "type": "string"
         },
         {
          "name": "auth_id",
          "type": "integer"
         },
         {
          "name": "auth_in_place",
          "type": "integer"
         },
         {
          "name": "number_of_auth_tot_article",
          "type": "integer"
         },
         {
          "name": "number_of_auth_in_VABB",
          "type": "integer"
         },
         {
          "name": "senior",
          "type": "integer"
         },
         {
          "name": "Social health sciences",
          "type": "integer"
         },
         {
          "name": "Psychology",
          "type": "integer"
         },
         {
          "name": "Economics",
          "type": "integer"
         },
         {
          "name": "Educational sciences",
          "type": "integer"
         },
         {
          "name": "Sociology",
          "type": "integer"
         },
         {
          "name": "Law",
          "type": "integer"
         },
         {
          "name": "Criminology",
          "type": "integer"
         },
         {
          "name": "Political sciences",
          "type": "integer"
         },
         {
          "name": "Communication sciences",
          "type": "integer"
         },
         {
          "name": "Social sciences general",
          "type": "integer"
         },
         {
          "name": "History",
          "type": "integer"
         },
         {
          "name": "Archaeology",
          "type": "integer"
         },
         {
          "name": "Language",
          "type": "integer"
         },
         {
          "name": "Philosophy",
          "type": "integer"
         },
         {
          "name": "Arts, achitecture and art history",
          "type": "integer"
         },
         {
          "name": "Other disciplines",
          "type": "integer"
         },
         {
          "name": "Humanities general",
          "type": "integer"
         }
        ],
        "pandas_version": "0.20.0",
        "primaryKey": [
         "index"
        ]
       }
      },
      "text/html": [
       "<div>\n",
       "<style scoped>\n",
       "    .dataframe tbody tr th:only-of-type {\n",
       "        vertical-align: middle;\n",
       "    }\n",
       "\n",
       "    .dataframe tbody tr th {\n",
       "        vertical-align: top;\n",
       "    }\n",
       "\n",
       "    .dataframe thead th {\n",
       "        text-align: right;\n",
       "    }\n",
       "</style>\n",
       "<table border=\"1\" class=\"dataframe\">\n",
       "  <thead>\n",
       "    <tr style=\"text-align: right;\">\n",
       "      <th></th>\n",
       "      <th>pub_id</th>\n",
       "      <th>pub_year</th>\n",
       "      <th>journal_id</th>\n",
       "      <th>fos_lv1</th>\n",
       "      <th>fos_lv2</th>\n",
       "      <th>auth_id</th>\n",
       "      <th>auth_in_place</th>\n",
       "      <th>number_of_auth_tot_article</th>\n",
       "      <th>number_of_auth_in_VABB</th>\n",
       "      <th>senior</th>\n",
       "      <th>...</th>\n",
       "      <th>Political sciences</th>\n",
       "      <th>Communication sciences</th>\n",
       "      <th>Social sciences general</th>\n",
       "      <th>History</th>\n",
       "      <th>Archaeology</th>\n",
       "      <th>Language</th>\n",
       "      <th>Philosophy</th>\n",
       "      <th>Arts, achitecture and art history</th>\n",
       "      <th>Other disciplines</th>\n",
       "      <th>Humanities general</th>\n",
       "    </tr>\n",
       "  </thead>\n",
       "  <tbody>\n",
       "    <tr>\n",
       "      <th>0</th>\n",
       "      <td>0</td>\n",
       "      <td>2008</td>\n",
       "      <td>7</td>\n",
       "      <td>5. Social sciences</td>\n",
       "      <td>5.7 Social and economic geography</td>\n",
       "      <td>6</td>\n",
       "      <td>8</td>\n",
       "      <td>9</td>\n",
       "      <td>5</td>\n",
       "      <td>0</td>\n",
       "      <td>...</td>\n",
       "      <td>0</td>\n",
       "      <td>0</td>\n",
       "      <td>1</td>\n",
       "      <td>0</td>\n",
       "      <td>0</td>\n",
       "      <td>0</td>\n",
       "      <td>0</td>\n",
       "      <td>0</td>\n",
       "      <td>1</td>\n",
       "      <td>0</td>\n",
       "    </tr>\n",
       "    <tr>\n",
       "      <th>1</th>\n",
       "      <td>0</td>\n",
       "      <td>2008</td>\n",
       "      <td>7</td>\n",
       "      <td>5. Social sciences</td>\n",
       "      <td>5.7 Social and economic geography</td>\n",
       "      <td>50</td>\n",
       "      <td>9</td>\n",
       "      <td>9</td>\n",
       "      <td>5</td>\n",
       "      <td>1</td>\n",
       "      <td>...</td>\n",
       "      <td>0</td>\n",
       "      <td>0</td>\n",
       "      <td>1</td>\n",
       "      <td>0</td>\n",
       "      <td>0</td>\n",
       "      <td>0</td>\n",
       "      <td>0</td>\n",
       "      <td>0</td>\n",
       "      <td>1</td>\n",
       "      <td>0</td>\n",
       "    </tr>\n",
       "  </tbody>\n",
       "</table>\n",
       "<p>2 rows × 27 columns</p>\n",
       "</div>"
      ],
      "text/plain": [
       "   pub_id  pub_year  journal_id             fos_lv1  \\\n",
       "0       0      2008           7  5. Social sciences   \n",
       "1       0      2008           7  5. Social sciences   \n",
       "\n",
       "                             fos_lv2  auth_id  auth_in_place  \\\n",
       "0  5.7 Social and economic geography        6              8   \n",
       "1  5.7 Social and economic geography       50              9   \n",
       "\n",
       "   number_of_auth_tot_article  number_of_auth_in_VABB  senior  ...  \\\n",
       "0                           9                       5       0  ...   \n",
       "1                           9                       5       1  ...   \n",
       "\n",
       "   Political sciences  Communication sciences  Social sciences general  \\\n",
       "0                   0                       0                        1   \n",
       "1                   0                       0                        1   \n",
       "\n",
       "   History  Archaeology  Language  Philosophy  \\\n",
       "0        0            0         0           0   \n",
       "1        0            0         0           0   \n",
       "\n",
       "   Arts, achitecture and art history  Other disciplines  Humanities general  \n",
       "0                                  0                  1                   0  \n",
       "1                                  0                  1                   0  \n",
       "\n",
       "[2 rows x 27 columns]"
      ]
     },
     "execution_count": 32,
     "metadata": {},
     "output_type": "execute_result"
    }
   ],
   "source": [
    "# let's look at first two rows of dataframe\n",
    "df.head(2)"
   ]
  },
  {
   "cell_type": "markdown",
   "metadata": {},
   "source": [
    "The dataframe contains information about the publications which appeared in POA journals.\n",
    "Each row contains standardized metadata of the publications and information for each of it's authors (if affiliated to a Flemish University).\n",
    "\n",
    "Description of variables/columns:\n",
    "    - ['pub_id'] : unique identifier for publication\n",
    "    - ['pub_year'] : publication year for each publication\n",
    "    - ['journal_id'] : unique identifiers for each journal\n",
    "    - ['fos_lv1'] : level 1 cognitive classification of the publication based on OECD Fields of Science discipline code assigned to the journal\n",
    "    - ['fos_lv2'] : level 2 \" \"\n",
    "    - ['auth_id'] : unique identifier for authors \n",
    "    - ['auth_in_place'] : position (numerical) of each author in byline of publication\n",
    "    - ['number_of_auth_tot_article'] : total number of authors in byline of publication\n",
    "    - ['number_of_auth_in_VABB'] : total number of authors in byline who are in VABB\n",
    "    - ['senior'] : boolean (true/false) for seniority status of each author\n",
    "    - ['Social health sciences', 'Psychology',\n",
    "       'Economics', 'Educational sciences', 'Sociology', 'Law', 'Criminology',\n",
    "       'Political sciences', 'Communication sciences',\n",
    "       'Social sciences general', 'History', 'Archaeology', 'Language',\n",
    "       'Philosophy', 'Arts, achitecture and art history', 'Humanities general',\n",
    "       'Other disciplines'] : organizational classification of the publication based on author affiliations"
   ]
  },
  {
   "cell_type": "markdown",
   "metadata": {},
   "source": [
    "## Descriptive statistics"
   ]
  },
  {
   "cell_type": "code",
   "execution_count": 11,
   "metadata": {},
   "outputs": [
    {
     "name": "stdout",
     "output_type": "stream",
     "text": [
      "The number of authors: 341\n",
      "The number of journals: 144\n",
      "The number of articles: 210\n"
     ]
    }
   ],
   "source": [
    "print('The number of authors: {}'.format(df.auth_id.nunique()))\n",
    "print('The number of journals: {}'.format(df.journal_id.nunique()))\n",
    "print('The number of articles: {}'.format(df.pub_id.nunique()))"
   ]
  },
  {
   "cell_type": "markdown",
   "metadata": {},
   "source": [
    "## Distribution of publications (absolute counts) in POA journals, journals indexed by DOAJ, and other peer-reviewed journals"
   ]
  },
  {
   "cell_type": "code",
   "execution_count": 33,
   "metadata": {},
   "outputs": [
    {
     "data": {
      "application/vnd.dataresource+json": {
       "data": [
        {
         "Journals": 2,
         "Publication year": 2004,
         "Publications": 2,
         "index": 0
        },
        {
         "Journals": 4,
         "Publication year": 2005,
         "Publications": 4,
         "index": 1
        },
        {
         "Journals": 6,
         "Publication year": 2006,
         "Publications": 8,
         "index": 2
        },
        {
         "Journals": 8,
         "Publication year": 2007,
         "Publications": 9,
         "index": 3
        },
        {
         "Journals": 7,
         "Publication year": 2008,
         "Publications": 8,
         "index": 4
        },
        {
         "Journals": 10,
         "Publication year": 2009,
         "Publications": 10,
         "index": 5
        },
        {
         "Journals": 16,
         "Publication year": 2010,
         "Publications": 17,
         "index": 6
        },
        {
         "Journals": 25,
         "Publication year": 2011,
         "Publications": 27,
         "index": 7
        },
        {
         "Journals": 42,
         "Publication year": 2012,
         "Publications": 48,
         "index": 8
        },
        {
         "Journals": 32,
         "Publication year": 2013,
         "Publications": 35,
         "index": 9
        },
        {
         "Journals": 27,
         "Publication year": 2014,
         "Publications": 32,
         "index": 10
        },
        {
         "Journals": 5,
         "Publication year": 2015,
         "Publications": 6,
         "index": 11
        },
        {
         "Journals": 4,
         "Publication year": 2016,
         "Publications": 4,
         "index": 12
        }
       ],
       "schema": {
        "fields": [
         {
          "name": "index",
          "type": "integer"
         },
         {
          "name": "Publication year",
          "type": "integer"
         },
         {
          "name": "Publications",
          "type": "integer"
         },
         {
          "name": "Journals",
          "type": "integer"
         }
        ],
        "pandas_version": "0.20.0",
        "primaryKey": [
         "index"
        ]
       }
      },
      "text/html": [
       "<div>\n",
       "<style scoped>\n",
       "    .dataframe tbody tr th:only-of-type {\n",
       "        vertical-align: middle;\n",
       "    }\n",
       "\n",
       "    .dataframe tbody tr th {\n",
       "        vertical-align: top;\n",
       "    }\n",
       "\n",
       "    .dataframe thead th {\n",
       "        text-align: right;\n",
       "    }\n",
       "</style>\n",
       "<table border=\"1\" class=\"dataframe\">\n",
       "  <thead>\n",
       "    <tr style=\"text-align: right;\">\n",
       "      <th></th>\n",
       "      <th>Publication year</th>\n",
       "      <th>Publications</th>\n",
       "      <th>Journals</th>\n",
       "    </tr>\n",
       "  </thead>\n",
       "  <tbody>\n",
       "    <tr>\n",
       "      <th>0</th>\n",
       "      <td>2004</td>\n",
       "      <td>2</td>\n",
       "      <td>2</td>\n",
       "    </tr>\n",
       "    <tr>\n",
       "      <th>1</th>\n",
       "      <td>2005</td>\n",
       "      <td>4</td>\n",
       "      <td>4</td>\n",
       "    </tr>\n",
       "    <tr>\n",
       "      <th>2</th>\n",
       "      <td>2006</td>\n",
       "      <td>8</td>\n",
       "      <td>6</td>\n",
       "    </tr>\n",
       "    <tr>\n",
       "      <th>3</th>\n",
       "      <td>2007</td>\n",
       "      <td>9</td>\n",
       "      <td>8</td>\n",
       "    </tr>\n",
       "    <tr>\n",
       "      <th>4</th>\n",
       "      <td>2008</td>\n",
       "      <td>8</td>\n",
       "      <td>7</td>\n",
       "    </tr>\n",
       "    <tr>\n",
       "      <th>5</th>\n",
       "      <td>2009</td>\n",
       "      <td>10</td>\n",
       "      <td>10</td>\n",
       "    </tr>\n",
       "    <tr>\n",
       "      <th>6</th>\n",
       "      <td>2010</td>\n",
       "      <td>17</td>\n",
       "      <td>16</td>\n",
       "    </tr>\n",
       "    <tr>\n",
       "      <th>7</th>\n",
       "      <td>2011</td>\n",
       "      <td>27</td>\n",
       "      <td>25</td>\n",
       "    </tr>\n",
       "    <tr>\n",
       "      <th>8</th>\n",
       "      <td>2012</td>\n",
       "      <td>48</td>\n",
       "      <td>42</td>\n",
       "    </tr>\n",
       "    <tr>\n",
       "      <th>9</th>\n",
       "      <td>2013</td>\n",
       "      <td>35</td>\n",
       "      <td>32</td>\n",
       "    </tr>\n",
       "    <tr>\n",
       "      <th>10</th>\n",
       "      <td>2014</td>\n",
       "      <td>32</td>\n",
       "      <td>27</td>\n",
       "    </tr>\n",
       "    <tr>\n",
       "      <th>11</th>\n",
       "      <td>2015</td>\n",
       "      <td>6</td>\n",
       "      <td>5</td>\n",
       "    </tr>\n",
       "    <tr>\n",
       "      <th>12</th>\n",
       "      <td>2016</td>\n",
       "      <td>4</td>\n",
       "      <td>4</td>\n",
       "    </tr>\n",
       "  </tbody>\n",
       "</table>\n",
       "</div>"
      ],
      "text/plain": [
       "    Publication year  Publications  Journals\n",
       "0               2004             2         2\n",
       "1               2005             4         4\n",
       "2               2006             8         6\n",
       "3               2007             9         8\n",
       "4               2008             8         7\n",
       "5               2009            10        10\n",
       "6               2010            17        16\n",
       "7               2011            27        25\n",
       "8               2012            48        42\n",
       "9               2013            35        32\n",
       "10              2014            32        27\n",
       "11              2015             6         5\n",
       "12              2016             4         4"
      ]
     },
     "metadata": {},
     "output_type": "display_data"
    }
   ],
   "source": [
    "df.pub_year = df.pub_year.astype(int)\n",
    "display(df.groupby(['pub_year'])['pub_id','journal_id'].nunique().reset_index().rename(columns=\n",
    "                                                                              {'pub_year':'Publication year',\n",
    "                                                                               'pub_id':'Publications', \n",
    "                                                                               'journal_id':'Journals'}\n",
    "                                                                             ))"
   ]
  },
  {
   "cell_type": "markdown",
   "metadata": {},
   "source": [
    "## Distribution of POA journals (absolute counts) classified by Fields of Science OECD coding scheme [(link to OECD manual)](http://www.oecd.org/science/inno/38235147.pdf)"
   ]
  },
  {
   "cell_type": "code",
   "execution_count": 34,
   "metadata": {},
   "outputs": [
    {
     "data": {
      "application/vnd.dataresource+json": {
       "data": [
        {
         "Field of science code": "1. Natural sciences",
         "N journals": 20,
         "Proportion": 0.1388888889,
         "index": 0
        },
        {
         "Field of science code": "2. Engineering and technology",
         "N journals": 14,
         "Proportion": 0.0972222222,
         "index": 1
        },
        {
         "Field of science code": "3. Medical and Health sciences",
         "N journals": 48,
         "Proportion": 0.3333333333,
         "index": 2
        },
        {
         "Field of science code": "4. Agricultural sciences",
         "N journals": 4,
         "Proportion": 0.0277777778,
         "index": 3
        },
        {
         "Field of science code": "5. Social sciences",
         "N journals": 43,
         "Proportion": 0.2986111111,
         "index": 4
        },
        {
         "Field of science code": "6. Humanities",
         "N journals": 1,
         "Proportion": 0.0069444444,
         "index": 5
        },
        {
         "Field of science code": "General/very broad",
         "N journals": 14,
         "Proportion": 0.0972222222,
         "index": 6
        }
       ],
       "schema": {
        "fields": [
         {
          "name": "index",
          "type": "integer"
         },
         {
          "name": "Field of science code",
          "type": "string"
         },
         {
          "name": "N journals",
          "type": "integer"
         },
         {
          "name": "Proportion",
          "type": "number"
         }
        ],
        "pandas_version": "0.20.0",
        "primaryKey": [
         "index"
        ]
       }
      },
      "text/html": [
       "<div>\n",
       "<style scoped>\n",
       "    .dataframe tbody tr th:only-of-type {\n",
       "        vertical-align: middle;\n",
       "    }\n",
       "\n",
       "    .dataframe tbody tr th {\n",
       "        vertical-align: top;\n",
       "    }\n",
       "\n",
       "    .dataframe thead th {\n",
       "        text-align: right;\n",
       "    }\n",
       "</style>\n",
       "<table border=\"1\" class=\"dataframe\">\n",
       "  <thead>\n",
       "    <tr style=\"text-align: right;\">\n",
       "      <th></th>\n",
       "      <th>Field of science code</th>\n",
       "      <th>N journals</th>\n",
       "      <th>Proportion</th>\n",
       "    </tr>\n",
       "  </thead>\n",
       "  <tbody>\n",
       "    <tr>\n",
       "      <th>0</th>\n",
       "      <td>1. Natural sciences</td>\n",
       "      <td>20</td>\n",
       "      <td>0.1389</td>\n",
       "    </tr>\n",
       "    <tr>\n",
       "      <th>1</th>\n",
       "      <td>2. Engineering and technology</td>\n",
       "      <td>14</td>\n",
       "      <td>0.0972</td>\n",
       "    </tr>\n",
       "    <tr>\n",
       "      <th>2</th>\n",
       "      <td>3. Medical and Health sciences</td>\n",
       "      <td>48</td>\n",
       "      <td>0.3333</td>\n",
       "    </tr>\n",
       "    <tr>\n",
       "      <th>3</th>\n",
       "      <td>4. Agricultural sciences</td>\n",
       "      <td>4</td>\n",
       "      <td>0.0278</td>\n",
       "    </tr>\n",
       "    <tr>\n",
       "      <th>4</th>\n",
       "      <td>5. Social sciences</td>\n",
       "      <td>43</td>\n",
       "      <td>0.2986</td>\n",
       "    </tr>\n",
       "    <tr>\n",
       "      <th>5</th>\n",
       "      <td>6. Humanities</td>\n",
       "      <td>1</td>\n",
       "      <td>0.0069</td>\n",
       "    </tr>\n",
       "    <tr>\n",
       "      <th>6</th>\n",
       "      <td>General/very broad</td>\n",
       "      <td>14</td>\n",
       "      <td>0.0972</td>\n",
       "    </tr>\n",
       "  </tbody>\n",
       "</table>\n",
       "</div>"
      ],
      "text/plain": [
       "            Field of science code  N journals  Proportion\n",
       "0             1. Natural sciences          20      0.1389\n",
       "1   2. Engineering and technology          14      0.0972\n",
       "2  3. Medical and Health sciences          48      0.3333\n",
       "3        4. Agricultural sciences           4      0.0278\n",
       "4              5. Social sciences          43      0.2986\n",
       "5                   6. Humanities           1      0.0069\n",
       "6              General/very broad          14      0.0972"
      ]
     },
     "metadata": {},
     "output_type": "display_data"
    },
    {
     "data": {
      "image/png": "[encoded data removed]",
      "text/plain": [
       "<Figure size 432x288 with 1 Axes>"
      ]
     },
     "metadata": {},
     "output_type": "display_data"
    }
   ],
   "source": [
    "# Table for figure 1.\n",
    "counts1 = df.groupby(['fos_lv1'])['journal_id'].nunique().reset_index().rename(columns=\n",
    "                                                                              {'fos_lv1':'Field of science code',\n",
    "                                                                               'journal_id':'N journals'}\n",
    "                                                                             )\n",
    "counts1['Proportion'] = counts1['N journals'] / counts1['N journals'].sum()\n",
    "\n",
    "display(counts1)\n",
    "\n",
    "# Figure 1. Distribution of POA journals (absolute counts) classified by Fields of Science OECD coding scheme (N = 144)\n",
    "ax = sns.barplot(x = 'N journals', \n",
    "            y = 'Field of science code', \n",
    "            data=counts1, \n",
    "            color='Grey')\n",
    "\n",
    "ax.set(xlim=(0, 50), \n",
    "       ylabel='Fields of Science',\n",
    "       xlabel=\"Number of journals\")\n",
    "plt.tight_layout()\n",
    "plt.show()"
   ]
  },
  {
   "cell_type": "code",
   "execution_count": 15,
   "metadata": {},
   "outputs": [
    {
     "data": {
      "text/html": [
       "<div>\n",
       "<style scoped>\n",
       "    .dataframe tbody tr th:only-of-type {\n",
       "        vertical-align: middle;\n",
       "    }\n",
       "\n",
       "    .dataframe tbody tr th {\n",
       "        vertical-align: top;\n",
       "    }\n",
       "\n",
       "    .dataframe thead th {\n",
       "        text-align: right;\n",
       "    }\n",
       "</style>\n",
       "<table border=\"1\" class=\"dataframe\">\n",
       "  <thead>\n",
       "    <tr style=\"text-align: right;\">\n",
       "      <th></th>\n",
       "      <th>Field of science code</th>\n",
       "      <th>N journals</th>\n",
       "      <th>Proportion</th>\n",
       "    </tr>\n",
       "  </thead>\n",
       "  <tbody>\n",
       "    <tr>\n",
       "      <th>0</th>\n",
       "      <td>1.1 Mathematics</td>\n",
       "      <td>3</td>\n",
       "      <td>0.0208</td>\n",
       "    </tr>\n",
       "    <tr>\n",
       "      <th>1</th>\n",
       "      <td>1.2 Computer and information sciences</td>\n",
       "      <td>5</td>\n",
       "      <td>0.0347</td>\n",
       "    </tr>\n",
       "    <tr>\n",
       "      <th>2</th>\n",
       "      <td>1.3 Physical sciences</td>\n",
       "      <td>1</td>\n",
       "      <td>0.0069</td>\n",
       "    </tr>\n",
       "    <tr>\n",
       "      <th>3</th>\n",
       "      <td>1.5 Earth and related environmental sciences</td>\n",
       "      <td>5</td>\n",
       "      <td>0.0347</td>\n",
       "    </tr>\n",
       "    <tr>\n",
       "      <th>4</th>\n",
       "      <td>1.6 Biological sciences</td>\n",
       "      <td>6</td>\n",
       "      <td>0.0417</td>\n",
       "    </tr>\n",
       "    <tr>\n",
       "      <th>5</th>\n",
       "      <td>2.1 Civil engineering</td>\n",
       "      <td>1</td>\n",
       "      <td>0.0069</td>\n",
       "    </tr>\n",
       "    <tr>\n",
       "      <th>6</th>\n",
       "      <td>2.11 Other engineering and technologies</td>\n",
       "      <td>4</td>\n",
       "      <td>0.0278</td>\n",
       "    </tr>\n",
       "    <tr>\n",
       "      <th>7</th>\n",
       "      <td>2.2 Electrical engineering, electronic enginee...</td>\n",
       "      <td>2</td>\n",
       "      <td>0.0139</td>\n",
       "    </tr>\n",
       "    <tr>\n",
       "      <th>8</th>\n",
       "      <td>2.3 Mechanical engineering</td>\n",
       "      <td>1</td>\n",
       "      <td>0.0069</td>\n",
       "    </tr>\n",
       "    <tr>\n",
       "      <th>9</th>\n",
       "      <td>2.7 Environmental engineering</td>\n",
       "      <td>6</td>\n",
       "      <td>0.0417</td>\n",
       "    </tr>\n",
       "    <tr>\n",
       "      <th>10</th>\n",
       "      <td>3.1 Basic medicine</td>\n",
       "      <td>13</td>\n",
       "      <td>0.0903</td>\n",
       "    </tr>\n",
       "    <tr>\n",
       "      <th>11</th>\n",
       "      <td>3.2 Clinical medicine</td>\n",
       "      <td>23</td>\n",
       "      <td>0.1597</td>\n",
       "    </tr>\n",
       "    <tr>\n",
       "      <th>12</th>\n",
       "      <td>3.3 Health sciences</td>\n",
       "      <td>8</td>\n",
       "      <td>0.0556</td>\n",
       "    </tr>\n",
       "    <tr>\n",
       "      <th>13</th>\n",
       "      <td>3.4 Health biotechnology</td>\n",
       "      <td>1</td>\n",
       "      <td>0.0069</td>\n",
       "    </tr>\n",
       "    <tr>\n",
       "      <th>14</th>\n",
       "      <td>3.5 Other medical sciences</td>\n",
       "      <td>3</td>\n",
       "      <td>0.0208</td>\n",
       "    </tr>\n",
       "    <tr>\n",
       "      <th>15</th>\n",
       "      <td>4.1 Agriculture, forestry, and fisheries</td>\n",
       "      <td>4</td>\n",
       "      <td>0.0278</td>\n",
       "    </tr>\n",
       "    <tr>\n",
       "      <th>16</th>\n",
       "      <td>5.1 Psychology</td>\n",
       "      <td>3</td>\n",
       "      <td>0.0208</td>\n",
       "    </tr>\n",
       "    <tr>\n",
       "      <th>17</th>\n",
       "      <td>5.2 Economics and business</td>\n",
       "      <td>18</td>\n",
       "      <td>0.1250</td>\n",
       "    </tr>\n",
       "    <tr>\n",
       "      <th>18</th>\n",
       "      <td>5.3 Educational sciences</td>\n",
       "      <td>6</td>\n",
       "      <td>0.0417</td>\n",
       "    </tr>\n",
       "    <tr>\n",
       "      <th>19</th>\n",
       "      <td>5.4 Sociology</td>\n",
       "      <td>4</td>\n",
       "      <td>0.0278</td>\n",
       "    </tr>\n",
       "    <tr>\n",
       "      <th>20</th>\n",
       "      <td>5.6 Political Science</td>\n",
       "      <td>3</td>\n",
       "      <td>0.0208</td>\n",
       "    </tr>\n",
       "    <tr>\n",
       "      <th>21</th>\n",
       "      <td>5.7 Social and economic geography</td>\n",
       "      <td>3</td>\n",
       "      <td>0.0208</td>\n",
       "    </tr>\n",
       "    <tr>\n",
       "      <th>22</th>\n",
       "      <td>5.8 Media and communications</td>\n",
       "      <td>3</td>\n",
       "      <td>0.0208</td>\n",
       "    </tr>\n",
       "    <tr>\n",
       "      <th>23</th>\n",
       "      <td>5.9 Other social sciences</td>\n",
       "      <td>3</td>\n",
       "      <td>0.0208</td>\n",
       "    </tr>\n",
       "    <tr>\n",
       "      <th>24</th>\n",
       "      <td>6.3.1 Philosophy</td>\n",
       "      <td>1</td>\n",
       "      <td>0.0069</td>\n",
       "    </tr>\n",
       "    <tr>\n",
       "      <th>25</th>\n",
       "      <td>General/very broad</td>\n",
       "      <td>14</td>\n",
       "      <td>0.0972</td>\n",
       "    </tr>\n",
       "  </tbody>\n",
       "</table>\n",
       "</div>"
      ],
      "text/plain": [
       "                                Field of science code  N journals  Proportion\n",
       "0                                     1.1 Mathematics           3      0.0208\n",
       "1               1.2 Computer and information sciences           5      0.0347\n",
       "2                               1.3 Physical sciences           1      0.0069\n",
       "3        1.5 Earth and related environmental sciences           5      0.0347\n",
       "4                             1.6 Biological sciences           6      0.0417\n",
       "5                               2.1 Civil engineering           1      0.0069\n",
       "6             2.11 Other engineering and technologies           4      0.0278\n",
       "7   2.2 Electrical engineering, electronic enginee...           2      0.0139\n",
       "8                          2.3 Mechanical engineering           1      0.0069\n",
       "9                       2.7 Environmental engineering           6      0.0417\n",
       "10                                 3.1 Basic medicine          13      0.0903\n",
       "11                              3.2 Clinical medicine          23      0.1597\n",
       "12                                3.3 Health sciences           8      0.0556\n",
       "13                           3.4 Health biotechnology           1      0.0069\n",
       "14                         3.5 Other medical sciences           3      0.0208\n",
       "15           4.1 Agriculture, forestry, and fisheries           4      0.0278\n",
       "16                                     5.1 Psychology           3      0.0208\n",
       "17                         5.2 Economics and business          18      0.1250\n",
       "18                           5.3 Educational sciences           6      0.0417\n",
       "19                                      5.4 Sociology           4      0.0278\n",
       "20                              5.6 Political Science           3      0.0208\n",
       "21                  5.7 Social and economic geography           3      0.0208\n",
       "22                       5.8 Media and communications           3      0.0208\n",
       "23                          5.9 Other social sciences           3      0.0208\n",
       "24                                   6.3.1 Philosophy           1      0.0069\n",
       "25                                 General/very broad          14      0.0972"
      ]
     },
     "metadata": {},
     "output_type": "display_data"
    },
    {
     "data": {
      "image/png": "[encoded data removed]",
      "text/plain": [
       "<Figure size 432x792 with 1 Axes>"
      ]
     },
     "metadata": {},
     "output_type": "display_data"
    }
   ],
   "source": [
    "# Supplementary material 1. Table of distribution of POA journals (absolute counts and proportions) \n",
    "# classified by Fields of Science coding scheme level 2 (N = 144)\n",
    "counts2 = df.groupby(['fos_lv2'])['journal_id'].nunique().reset_index().rename(columns=\n",
    "                                                                              {'fos_lv2':'Field of science code',\n",
    "                                                                               'journal_id':'N journals'}\n",
    "                                                                             )\n",
    "counts2['Proportion'] = np.round((counts2['N journals'] / counts2['N journals'].sum()), decimals=4)\n",
    "\n",
    "# Supplementary material 1. Distribution of POA journals (absolute counts) \n",
    "# classified by Fields of Science coding scheme level 2 (N = 144)\n",
    "ax = plt.subplots(figsize=(6,11))\n",
    "\n",
    "ax = sns.barplot(x = 'N journals', \n",
    "                 y = 'Field of science code', \n",
    "                 data=counts2, \n",
    "                 color='Grey')\n",
    "\n",
    "ax.set( ylabel='Fields of Science',\n",
    "       xlabel=\"Number of journals\")\n",
    "\n",
    "display(counts2)\n",
    "plt.show()"
   ]
  },
  {
   "cell_type": "markdown",
   "metadata": {},
   "source": [
    "## Number (and column-wise proportions) of POA, DOAJ indexed and peer-reviewed publications with n authors"
   ]
  },
  {
   "cell_type": "code",
   "execution_count": 18,
   "metadata": {},
   "outputs": [
    {
     "data": {
      "text/html": [
       "<div>\n",
       "<style scoped>\n",
       "    .dataframe tbody tr th:only-of-type {\n",
       "        vertical-align: middle;\n",
       "    }\n",
       "\n",
       "    .dataframe tbody tr th {\n",
       "        vertical-align: top;\n",
       "    }\n",
       "\n",
       "    .dataframe thead th {\n",
       "        text-align: right;\n",
       "    }\n",
       "</style>\n",
       "<table border=\"1\" class=\"dataframe\">\n",
       "  <thead>\n",
       "    <tr style=\"text-align: right;\">\n",
       "      <th></th>\n",
       "      <th>Number of authors listed</th>\n",
       "      <th>POA publications</th>\n",
       "      <th>Proportion (column wise)</th>\n",
       "    </tr>\n",
       "  </thead>\n",
       "  <tbody>\n",
       "    <tr>\n",
       "      <th>0</th>\n",
       "      <td>1</td>\n",
       "      <td>23</td>\n",
       "      <td>0.1095</td>\n",
       "    </tr>\n",
       "    <tr>\n",
       "      <th>1</th>\n",
       "      <td>2</td>\n",
       "      <td>46</td>\n",
       "      <td>0.2190</td>\n",
       "    </tr>\n",
       "    <tr>\n",
       "      <th>2</th>\n",
       "      <td>3</td>\n",
       "      <td>41</td>\n",
       "      <td>0.1952</td>\n",
       "    </tr>\n",
       "    <tr>\n",
       "      <th>3</th>\n",
       "      <td>4</td>\n",
       "      <td>39</td>\n",
       "      <td>0.1857</td>\n",
       "    </tr>\n",
       "    <tr>\n",
       "      <th>4</th>\n",
       "      <td>5</td>\n",
       "      <td>24</td>\n",
       "      <td>0.1143</td>\n",
       "    </tr>\n",
       "    <tr>\n",
       "      <th>5</th>\n",
       "      <td>6</td>\n",
       "      <td>9</td>\n",
       "      <td>0.0429</td>\n",
       "    </tr>\n",
       "    <tr>\n",
       "      <th>6</th>\n",
       "      <td>7</td>\n",
       "      <td>10</td>\n",
       "      <td>0.0476</td>\n",
       "    </tr>\n",
       "    <tr>\n",
       "      <th>7</th>\n",
       "      <td>8</td>\n",
       "      <td>11</td>\n",
       "      <td>0.0524</td>\n",
       "    </tr>\n",
       "    <tr>\n",
       "      <th>8</th>\n",
       "      <td>9</td>\n",
       "      <td>3</td>\n",
       "      <td>0.0143</td>\n",
       "    </tr>\n",
       "    <tr>\n",
       "      <th>9</th>\n",
       "      <td>10</td>\n",
       "      <td>2</td>\n",
       "      <td>0.0095</td>\n",
       "    </tr>\n",
       "    <tr>\n",
       "      <th>10</th>\n",
       "      <td>12</td>\n",
       "      <td>1</td>\n",
       "      <td>0.0048</td>\n",
       "    </tr>\n",
       "    <tr>\n",
       "      <th>11</th>\n",
       "      <td>14</td>\n",
       "      <td>1</td>\n",
       "      <td>0.0048</td>\n",
       "    </tr>\n",
       "  </tbody>\n",
       "</table>\n",
       "</div>"
      ],
      "text/plain": [
       "    Number of authors listed  POA publications  Proportion (column wise)\n",
       "0                          1                23                    0.1095\n",
       "1                          2                46                    0.2190\n",
       "2                          3                41                    0.1952\n",
       "3                          4                39                    0.1857\n",
       "4                          5                24                    0.1143\n",
       "5                          6                 9                    0.0429\n",
       "6                          7                10                    0.0476\n",
       "7                          8                11                    0.0524\n",
       "8                          9                 3                    0.0143\n",
       "9                         10                 2                    0.0095\n",
       "10                        12                 1                    0.0048\n",
       "11                        14                 1                    0.0048"
      ]
     },
     "metadata": {},
     "output_type": "display_data"
    }
   ],
   "source": [
    "table3 = pd.DataFrame(df.groupby(['number_of_auth_tot_article'])['pub_id'].nunique().reset_index().rename(columns=\n",
    "                                                                                 {'number_of_auth_tot_article':'Number of authors listed',\n",
    "                                                                                 'pub_id':'POA publications'}))\n",
    "table3['Proportion (column wise)'] = np.round((table3['POA publications']/table3['POA publications'].sum()), decimals=4)\n",
    "display(table3)"
   ]
  },
  {
   "cell_type": "markdown",
   "metadata": {},
   "source": [
    "## Average proportion of senior authors relative to all authors (senior and junior) for POA publications"
   ]
  },
  {
   "cell_type": "markdown",
   "metadata": {},
   "source": [
    "\n",
    "The average proportion of senior authors is determined as follows:\n",
    "\\begin{equation*}\n",
    "P = \\frac{1}{N} \\sum_{i=1}^{N} \\sum_{j=1}^{|A_i|} \\frac{a_{j}^{i}}{|A_i|}\n",
    "\\end{equation*}\n",
    "\n",
    "Here, $N$ is the number of publications, $A_i$ is the set of identified authors ${a_1^i,…,a_{|A_i|}^i}$ of publication  $i$, and ${|A_i |}$ is the number of identified authors of publication $i$. \n",
    "$a_j^i=1$ if author $j$ is a senior author, and 0 otherwise.\n",
    "$P$ ranges from 0 (no contribution by senior authors) to 1 (no contribution by junior authors)."
   ]
  },
  {
   "cell_type": "code",
   "execution_count": 27,
   "metadata": {},
   "outputs": [
    {
     "data": {
      "text/html": [
       "<div>\n",
       "<style scoped>\n",
       "    .dataframe tbody tr th:only-of-type {\n",
       "        vertical-align: middle;\n",
       "    }\n",
       "\n",
       "    .dataframe tbody tr th {\n",
       "        vertical-align: top;\n",
       "    }\n",
       "\n",
       "    .dataframe thead th {\n",
       "        text-align: right;\n",
       "    }\n",
       "</style>\n",
       "<table border=\"1\" class=\"dataframe\">\n",
       "  <thead>\n",
       "    <tr style=\"text-align: right;\">\n",
       "      <th></th>\n",
       "      <th>Year</th>\n",
       "      <th>Average proportion</th>\n",
       "    </tr>\n",
       "  </thead>\n",
       "  <tbody>\n",
       "    <tr>\n",
       "      <th>0</th>\n",
       "      <td>2004</td>\n",
       "      <td>1.0000</td>\n",
       "    </tr>\n",
       "    <tr>\n",
       "      <th>1</th>\n",
       "      <td>2005</td>\n",
       "      <td>0.7500</td>\n",
       "    </tr>\n",
       "    <tr>\n",
       "      <th>2</th>\n",
       "      <td>2006</td>\n",
       "      <td>0.9474</td>\n",
       "    </tr>\n",
       "    <tr>\n",
       "      <th>3</th>\n",
       "      <td>2007</td>\n",
       "      <td>0.7586</td>\n",
       "    </tr>\n",
       "    <tr>\n",
       "      <th>4</th>\n",
       "      <td>2008</td>\n",
       "      <td>0.7652</td>\n",
       "    </tr>\n",
       "    <tr>\n",
       "      <th>5</th>\n",
       "      <td>2009</td>\n",
       "      <td>0.8095</td>\n",
       "    </tr>\n",
       "    <tr>\n",
       "      <th>6</th>\n",
       "      <td>2010</td>\n",
       "      <td>0.9143</td>\n",
       "    </tr>\n",
       "    <tr>\n",
       "      <th>7</th>\n",
       "      <td>2011</td>\n",
       "      <td>0.8600</td>\n",
       "    </tr>\n",
       "    <tr>\n",
       "      <th>8</th>\n",
       "      <td>2012</td>\n",
       "      <td>0.6667</td>\n",
       "    </tr>\n",
       "    <tr>\n",
       "      <th>9</th>\n",
       "      <td>2013</td>\n",
       "      <td>0.6071</td>\n",
       "    </tr>\n",
       "    <tr>\n",
       "      <th>10</th>\n",
       "      <td>2014</td>\n",
       "      <td>0.6905</td>\n",
       "    </tr>\n",
       "    <tr>\n",
       "      <th>11</th>\n",
       "      <td>2015</td>\n",
       "      <td>0.6250</td>\n",
       "    </tr>\n",
       "    <tr>\n",
       "      <th>12</th>\n",
       "      <td>2016</td>\n",
       "      <td>0.7500</td>\n",
       "    </tr>\n",
       "  </tbody>\n",
       "</table>\n",
       "</div>"
      ],
      "text/plain": [
       "    Year  Average proportion\n",
       "0   2004              1.0000\n",
       "1   2005              0.7500\n",
       "2   2006              0.9474\n",
       "3   2007              0.7586\n",
       "4   2008              0.7652\n",
       "5   2009              0.8095\n",
       "6   2010              0.9143\n",
       "7   2011              0.8600\n",
       "8   2012              0.6667\n",
       "9   2013              0.6071\n",
       "10  2014              0.6905\n",
       "11  2015              0.6250\n",
       "12  2016              0.7500"
      ]
     },
     "execution_count": 27,
     "metadata": {},
     "output_type": "execute_result"
    }
   ],
   "source": [
    "def average_prop_senior_authors(df):\n",
    "    df2 = df.copy()\n",
    "    df2['seniortmp'] = df2.senior / df2.number_of_auth_in_VABB\n",
    "    share_senior = df2.groupby('pub_id')['seniortmp'].sum().to_frame('share_senior')\n",
    "    df2 = df2.merge(share_senior, left_on='pub_id', right_index=True, how='left')\n",
    "    \n",
    "    return pd.DataFrame(df2.groupby('pub_year').mean()['share_senior']).reset_index().rename(columns={'share_senior':'Average proportion',\n",
    "                                                                                                     'pub_year': 'Year'})\n",
    "\n",
    "average_prop_senior_authors(df)"
   ]
  },
  {
   "cell_type": "markdown",
   "metadata": {},
   "source": [
    "## Proportion of junior vs. senior authors positioned first in the author byline of POA publications"
   ]
  },
  {
   "cell_type": "code",
   "execution_count": 29,
   "metadata": {},
   "outputs": [
    {
     "data": {
      "text/html": [
       "<div>\n",
       "<style scoped>\n",
       "    .dataframe tbody tr th:only-of-type {\n",
       "        vertical-align: middle;\n",
       "    }\n",
       "\n",
       "    .dataframe tbody tr th {\n",
       "        vertical-align: top;\n",
       "    }\n",
       "\n",
       "    .dataframe thead th {\n",
       "        text-align: right;\n",
       "    }\n",
       "</style>\n",
       "<table border=\"1\" class=\"dataframe\">\n",
       "  <thead>\n",
       "    <tr style=\"text-align: right;\">\n",
       "      <th></th>\n",
       "      <th>Number of authors listed</th>\n",
       "      <th>status</th>\n",
       "      <th>Proportion of junior or senior listed first</th>\n",
       "    </tr>\n",
       "  </thead>\n",
       "  <tbody>\n",
       "    <tr>\n",
       "      <th>0</th>\n",
       "      <td>2</td>\n",
       "      <td>Junior</td>\n",
       "      <td>0.4286</td>\n",
       "    </tr>\n",
       "    <tr>\n",
       "      <th>1</th>\n",
       "      <td>2</td>\n",
       "      <td>Senior</td>\n",
       "      <td>0.4773</td>\n",
       "    </tr>\n",
       "    <tr>\n",
       "      <th>2</th>\n",
       "      <td>3</td>\n",
       "      <td>Junior</td>\n",
       "      <td>0.7500</td>\n",
       "    </tr>\n",
       "    <tr>\n",
       "      <th>3</th>\n",
       "      <td>3</td>\n",
       "      <td>Senior</td>\n",
       "      <td>0.2000</td>\n",
       "    </tr>\n",
       "    <tr>\n",
       "      <th>4</th>\n",
       "      <td>4</td>\n",
       "      <td>Junior</td>\n",
       "      <td>0.5517</td>\n",
       "    </tr>\n",
       "    <tr>\n",
       "      <th>5</th>\n",
       "      <td>4</td>\n",
       "      <td>Senior</td>\n",
       "      <td>0.1899</td>\n",
       "    </tr>\n",
       "    <tr>\n",
       "      <th>6</th>\n",
       "      <td>5+</td>\n",
       "      <td>Junior</td>\n",
       "      <td>0.2414</td>\n",
       "    </tr>\n",
       "    <tr>\n",
       "      <th>7</th>\n",
       "      <td>5+</td>\n",
       "      <td>Senior</td>\n",
       "      <td>0.1389</td>\n",
       "    </tr>\n",
       "  </tbody>\n",
       "</table>\n",
       "</div>"
      ],
      "text/plain": [
       "  Number of authors listed  status  \\\n",
       "0                        2  Junior   \n",
       "1                        2  Senior   \n",
       "2                        3  Junior   \n",
       "3                        3  Senior   \n",
       "4                        4  Junior   \n",
       "5                        4  Senior   \n",
       "6                       5+  Junior   \n",
       "7                       5+  Senior   \n",
       "\n",
       "   Proportion of junior or senior listed first  \n",
       "0                                       0.4286  \n",
       "1                                       0.4773  \n",
       "2                                       0.7500  \n",
       "3                                       0.2000  \n",
       "4                                       0.5517  \n",
       "5                                       0.1899  \n",
       "6                                       0.2414  \n",
       "7                                       0.1389  "
      ]
     },
     "metadata": {},
     "output_type": "display_data"
    },
    {
     "data": {
      "image/png": "[encoded data removed]",
      "text/plain": [
       "<Figure size 503.6x432 with 1 Axes>"
      ]
     },
     "metadata": {},
     "output_type": "display_data"
    }
   ],
   "source": [
    "df_temp = df[['pub_id', 'senior', 'auth_in_place', 'number_of_auth_tot_article']]\n",
    "\n",
    "df_temp = df_temp.loc[df_temp['number_of_auth_tot_article'] != 1]\n",
    "\n",
    "df_temp['number_of_auth_tot_article'] = df_temp['number_of_auth_tot_article'].where(df_temp['number_of_auth_tot_article'] <= 4,'5+')\n",
    "df_temp['auth_in_place'] = df_temp['auth_in_place'].where(df_temp['auth_in_place'] <= 1, 'Rest')\n",
    "df_temp['senior'] = np.where(df_temp['senior'] >= 1, 'Senior', 'Junior')\n",
    "\n",
    "df_temp_first = df_temp.loc[df_temp['auth_in_place'] == 1]\n",
    "df_temp = df_temp.groupby(['number_of_auth_tot_article', 'senior'])['pub_id'].size().reset_index()\n",
    "df_temp_first = df_temp_first.groupby(['number_of_auth_tot_article', 'senior'])['pub_id'].size().reset_index()\n",
    "\n",
    "df_temp['Proportion of junior or senior listed first'] = df_temp_first['pub_id']/df_temp['pub_id']\n",
    "\n",
    "df_temp = df_temp.drop(columns='pub_id')\n",
    "df_temp = df_temp.rename(index=str, columns={\"number_of_auth_tot_article\": \"Number of authors listed\", \n",
    "                                   \"senior\": \"status\",\n",
    "                                  })\n",
    "ax = sns.catplot(x=\"Number of authors listed\", \n",
    "                 y=\"Proportion of junior or senior listed first\", \n",
    "                 hue=\"status\",\n",
    "                 hue_order=['Junior','Senior'],\n",
    "                 data=df_temp, \n",
    "                 height=6, \n",
    "                 kind=\"bar\",\n",
    "                 palette=\"Greys\")\n",
    "ax.set(xlabel='Number of authors in byline', ylabel='Proportion junior or senior listed first')\n",
    "display(df_temp)\n",
    "plt.show()"
   ]
  },
  {
   "cell_type": "markdown",
   "metadata": {},
   "source": [
    "## Heatmap of cognitive (rows) and organizational (columns) classification of POA publications"
   ]
  },
  {
   "cell_type": "code",
   "execution_count": 30,
   "metadata": {},
   "outputs": [
    {
     "data": {
      "image/png": "[encoded data removed]",
      "text/plain": [
       "<Figure size 842.4x595.44 with 2 Axes>"
      ]
     },
     "metadata": {},
     "output_type": "display_data"
    }
   ],
   "source": [
    "df_disc = df.drop_duplicates(subset='pub_id')\n",
    "df_disc = df_disc[['fos_lv2', 'Social health sciences',\n",
    "       'Psychology', 'Economics', 'Educational sciences', 'Sociology', 'Law',\n",
    "       'Criminology', 'Political sciences', 'Communication sciences',\n",
    "       'Social sciences general', 'History', 'Archaeology', 'Language',\n",
    "       'Philosophy', 'Arts, achitecture and art history', 'Other disciplines',\n",
    "       'Humanities general']]\n",
    "\n",
    "df_disc = df_disc.groupby(['fos_lv2'])['Social health sciences',\n",
    "       'Psychology', 'Economics', 'Educational sciences', 'Sociology', 'Law',\n",
    "       'Criminology', 'Political sciences', 'Communication sciences',\n",
    "       'Social sciences general', 'History', 'Archaeology', 'Language',\n",
    "       'Philosophy', 'Arts, achitecture and art history', 'Other disciplines',\n",
    "       'Humanities general'].sum()\n",
    "\n",
    "fig, ax = plt.subplots(figsize=(11.7, 8.27))\n",
    "sns.set(font_scale=1)\n",
    "ax = sns.heatmap(df_disc, cmap=\"Greys\", ax=ax)\n",
    "ax.set(xlabel='Organizational classification', ylabel='Fields of Science (OECD)')\n",
    "plt.tight_layout()\n",
    "plt.show()"
   ]
  }
 ],
 "metadata": {
  "kernelspec": {
   "display_name": "Python 3",
   "language": "python",
   "name": "python3"
  },
  "language_info": {
   "codemirror_mode": {
    "name": "ipython",
    "version": 3
   },
   "file_extension": ".py",
   "mimetype": "text/x-python",
   "name": "python",
   "nbconvert_exporter": "python",
   "pygments_lexer": "ipython3",
   "version": "3.6.8"
  }
 },
 "nbformat": 4,
 "nbformat_minor": 2
}
